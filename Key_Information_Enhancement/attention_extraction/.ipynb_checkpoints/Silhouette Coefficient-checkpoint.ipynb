{
 "cells": [
  {
   "cell_type": "code",
   "execution_count": 73,
   "metadata": {},
   "outputs": [],
   "source": [
    "import os\n",
    "import pandas as pd\n",
    "from PIL import Image\n",
    "import numpy as np\n",
    "from sklearn.cluster import KMeans\n",
    "from sklearn.metrics import silhouette_score"
   ]
  },
  {
   "cell_type": "code",
   "execution_count": 51,
   "metadata": {},
   "outputs": [
    {
     "ename": "AttributeError",
     "evalue": "'Image' object has no attribute 'shape'",
     "output_type": "error",
     "traceback": [
      "\u001b[1;31m---------------------------------------------------------------------------\u001b[0m",
      "\u001b[1;31mAttributeError\u001b[0m                            Traceback (most recent call last)",
      "\u001b[1;32m<ipython-input-51-7d3d583d8aff>\u001b[0m in \u001b[0;36m<module>\u001b[1;34m\u001b[0m\n\u001b[1;32m----> 1\u001b[1;33m \u001b[0mpatch\u001b[0m\u001b[1;33m.\u001b[0m\u001b[0mshape\u001b[0m\u001b[1;33m\u001b[0m\u001b[1;33m\u001b[0m\u001b[0m\n\u001b[0m",
      "\u001b[1;31mAttributeError\u001b[0m: 'Image' object has no attribute 'shape'"
     ]
    }
   ],
   "source": []
  },
  {
   "cell_type": "code",
   "execution_count": 58,
   "metadata": {},
   "outputs": [],
   "source": [
    "def crop_center_n(img, n):\n",
    "    h, w = img.size\n",
    "    midh, midw = h//2, w//2\n",
    "    size = n // 2\n",
    "    patch = img.crop((midw-size, midh-size, midw+size+1, midh+size+1))\n",
    "    return patch\n",
    "def patch_channel_mean(patch):\n",
    "    patch = np.array(patch).reshape([-1, 3])\n",
    "    mv = np.mean(patch, axis=0)\n",
    "    return mv\n"
   ]
  },
  {
   "cell_type": "code",
   "execution_count": 83,
   "metadata": {},
   "outputs": [],
   "source": [
    "path = \"../../data/ACNE04/image_face_detection/\"\n",
    "image_name = os.listdir(path)\n",
    "sc_dict = {}\n",
    "path_size = [i for i in range(1, 22, 2)]"
   ]
  },
  {
   "cell_type": "code",
   "execution_count": null,
   "metadata": {},
   "outputs": [],
   "source": [
    "for name in image_name:\n",
    "    img = Image.open(path + name)\n",
    "    img = img.resize((255, 255))\n",
    "    sc_list = []\n",
    "    for n in path_size:\n",
    "        \n",
    "        patch = crop_center_n(img, n)\n",
    "        skin_mean = patch_channel_mean(patch)\n",
    "        max_gap = np.array([255, 255, 255]) - skin_mean\n",
    "        min_gap = skin_mean\n",
    "        data_img = []\n",
    "        for i in range(img.size[0]):\n",
    "            for j in range(img.size[1]):\n",
    "                x,y,z = img.getpixel((i, j))\n",
    "                pixel = np.array((x,y,z))\n",
    "                pixel = pixel - skin_mean\n",
    "                if np.sum(pixel) < 0:\n",
    "                    pixel = np.true_divide(pixel, min_gap)\n",
    "                else:\n",
    "                    pixel = np.true_divide(pixel, max_gap)\n",
    "                data_img.append(pixel)\n",
    "        data_img = np.mat(data_img)\n",
    "        km = KMeans(n_clusters=2)\n",
    "        label = km.fit_predict(data_img)\n",
    "        sc = silhouette_score(data_img, label)\n",
    "        sc_list.append((n, sc))\n",
    "        print(name, n, sc)\n",
    "    sc_dict[name] = sc_list\n",
    "    print(sc_list)\n",
    "    \n",
    "    "
   ]
  },
  {
   "cell_type": "code",
   "execution_count": null,
   "metadata": {},
   "outputs": [],
   "source": []
  }
 ],
 "metadata": {
  "kernelspec": {
   "display_name": "Python 3",
   "language": "python",
   "name": "python3"
  },
  "language_info": {
   "codemirror_mode": {
    "name": "ipython",
    "version": 3
   },
   "file_extension": ".py",
   "mimetype": "text/x-python",
   "name": "python",
   "nbconvert_exporter": "python",
   "pygments_lexer": "ipython3",
   "version": "3.8.5"
  }
 },
 "nbformat": 4,
 "nbformat_minor": 4
}
